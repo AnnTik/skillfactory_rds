{
 "cells": [
  {
   "cell_type": "code",
   "execution_count": 610,
   "id": "8342078d",
   "metadata": {
    "_cell_guid": "b1076dfc-b9ad-4769-8c92-a6c4dae69d19",
    "_uuid": "8f2839f25d086af736a60e9eeb907d3b93b6e0e5",
    "execution": {
     "iopub.execute_input": "2021-12-04T22:05:14.355977Z",
     "iopub.status.busy": "2021-12-04T22:05:14.354152Z",
     "iopub.status.idle": "2021-12-04T22:05:14.371279Z",
     "shell.execute_reply": "2021-12-04T22:05:14.370419Z",
     "shell.execute_reply.started": "2021-12-04T22:02:07.999586Z"
    },
    "papermill": {
     "duration": 0.044743,
     "end_time": "2021-12-04T22:05:14.371495",
     "exception": false,
     "start_time": "2021-12-04T22:05:14.326752",
     "status": "completed"
    },
    "tags": []
   },
   "outputs": [],
   "source": [
    "import numpy as np \n",
    "import pandas as pd \n",
    "import seaborn as sns\n",
    "from sklearn.metrics import mean_squared_error, f1_score, accuracy_score, roc_curve, roc_auc_score\n",
    "from sklearn.preprocessing import LabelEncoder, OneHotEncoder, StandardScaler, RobustScaler, MinMaxScaler, PolynomialFeatures\n",
    "from sklearn.model_selection import train_test_split\n",
    "from sklearn import preprocessing\n",
    "from sklearn.preprocessing import StandardScaler\n",
    "from sklearn.preprocessing import LabelEncoder\n",
    "from sklearn.preprocessing import OneHotEncoder\n",
    "from sklearn.linear_model import LinearRegression\n",
    "from sklearn.metrics import mean_squared_error as mse\n",
    "from matplotlib import pyplot as plt\n",
    "from sklearn.metrics import confusion_matrix, ConfusionMatrixDisplay\n",
    "from sklearn.metrics import auc, roc_auc_score, roc_curve\n",
    "from sklearn.metrics import plot_confusion_matrix\n",
    "from sklearn.model_selection import train_test_split, GridSearchCV\n",
    "from sklearn.linear_model import LogisticRegression\n",
    "import warnings \n",
    "warnings.simplefilter(\"ignore\")\n",
    "from sklearn import metrics \n",
    "from sklearn.feature_selection import f_classif\n",
    "from sklearn.feature_selection import mutual_info_classif \n",
    "# Input data files are available in the read-only \"../input/\" directory\n",
    "# For example, running this (by clicking run or pressing Shift+Enter) will list all files under the input directory\n",
    "\n",
    "import os\n",
    "for dirname, _, filenames in os.walk('/kaggle/input'):\n",
    "    for filename in filenames:\n",
    "        print(os.path.join(dirname, filename))\n",
    "\n",
    "# You can write up to 20GB to the current directory (/kaggle/working/) that gets preserved as output when you create a version using \"Save & Run All\" \n",
    "# You can also write temporary files to /kaggle/temp/, but they won't be saved outside of the current session"
   ]
  },
  {
   "cell_type": "code",
   "execution_count": 611,
   "id": "a9109c7b",
   "metadata": {},
   "outputs": [],
   "source": [
    "def get_boxplot(df, col):\n",
    "    fig, axes = plt.subplots(figsize = (14, 4))\n",
    "    sns.boxplot(x='default', y=col, data=df[df['sample']==1], ax=axes)\n",
    "    axes.set_title('Boxplot for ' + col)\n",
    "    plt.show()\n",
    "    \n",
    "def count_metrics(y_test, y_pred, y_probs):    \n",
    "    metrics = {}\n",
    "    metrics['accuracy'] = accuracy_score(y_test, y_pred)\n",
    "    metrics['f1'] = f1_score(y_test, y_pred)\n",
    "    metrics['roc_auc'] = roc_auc_score(y_test, y_probs)  \n",
    "    metrics['confusion'] = confusion_matrix(y_test, y_pred)\n",
    "    return metrics \n",
    "\n",
    "def show_roc_auc(y_test, y_probs):\n",
    "    fpr, tpr, threshold = roc_curve(y_test, y_probs)\n",
    "    roc_auc = roc_auc_score(y_test, y_probs)\n",
    "    plt.figure()\n",
    "    plt.plot([0, 1], label='Baseline', linestyle='--')\n",
    "    plt.plot(fpr, tpr, label = 'Regression')\n",
    "    plt.title('Logistic Regression ROC AUC = %0.3f' % roc_auc)\n",
    "    plt.ylabel('True Positive Rate')\n",
    "    plt.xlabel('False Positive Rate')\n",
    "    plt.legend(loc = 'lower right')\n",
    "    plt.show()"
   ]
  },
  {
   "cell_type": "code",
   "execution_count": 612,
   "id": "2d3502ce",
   "metadata": {
    "execution": {
     "iopub.execute_input": "2021-12-04T22:05:14.422476Z",
     "iopub.status.busy": "2021-12-04T22:05:14.421481Z",
     "iopub.status.idle": "2021-12-04T22:05:14.746194Z",
     "shell.execute_reply": "2021-12-04T22:05:14.746773Z",
     "shell.execute_reply.started": "2021-12-04T22:02:08.023910Z"
    },
    "papermill": {
     "duration": 0.348054,
     "end_time": "2021-12-04T22:05:14.746952",
     "exception": false,
     "start_time": "2021-12-04T22:05:14.398898",
     "status": "completed"
    },
    "tags": []
   },
   "outputs": [],
   "source": [
    "df_test = pd.read_csv('train.csv')\n",
    "df_train = pd.read_csv('train.csv')\n",
    "sample_submission = pd.read_csv('train.csv')"
   ]
  },
  {
   "cell_type": "code",
   "execution_count": 613,
   "id": "98d2f3a8",
   "metadata": {
    "execution": {
     "iopub.execute_input": "2021-12-04T22:05:14.814551Z",
     "iopub.status.busy": "2021-12-04T22:05:14.813565Z",
     "iopub.status.idle": "2021-12-04T22:05:14.817666Z",
     "shell.execute_reply": "2021-12-04T22:05:14.818170Z",
     "shell.execute_reply.started": "2021-12-04T22:02:08.349548Z"
    },
    "papermill": {
     "duration": 0.045199,
     "end_time": "2021-12-04T22:05:14.818336",
     "exception": false,
     "start_time": "2021-12-04T22:05:14.773137",
     "status": "completed"
    },
    "tags": []
   },
   "outputs": [
    {
     "data": {
      "text/plain": [
       "(73799, 14)"
      ]
     },
     "execution_count": 613,
     "metadata": {},
     "output_type": "execute_result"
    }
   ],
   "source": [
    "sample_submission.shape"
   ]
  },
  {
   "cell_type": "code",
   "execution_count": 614,
   "id": "82d02802",
   "metadata": {
    "execution": {
     "iopub.execute_input": "2021-12-04T22:05:14.860934Z",
     "iopub.status.busy": "2021-12-04T22:05:14.860331Z",
     "iopub.status.idle": "2021-12-04T22:05:14.862541Z",
     "shell.execute_reply": "2021-12-04T22:05:14.863086Z",
     "shell.execute_reply.started": "2021-12-04T22:02:08.361719Z"
    },
    "papermill": {
     "duration": 0.025643,
     "end_time": "2021-12-04T22:05:14.863245",
     "exception": false,
     "start_time": "2021-12-04T22:05:14.837602",
     "status": "completed"
    },
    "tags": []
   },
   "outputs": [
    {
     "data": {
      "text/plain": [
       "(73799, 14)"
      ]
     },
     "execution_count": 614,
     "metadata": {},
     "output_type": "execute_result"
    }
   ],
   "source": [
    "df_test.shape"
   ]
  },
  {
   "cell_type": "code",
   "execution_count": 615,
   "id": "ec303d70",
   "metadata": {
    "execution": {
     "iopub.execute_input": "2021-12-04T22:05:14.904445Z",
     "iopub.status.busy": "2021-12-04T22:05:14.903695Z",
     "iopub.status.idle": "2021-12-04T22:05:14.951582Z",
     "shell.execute_reply": "2021-12-04T22:05:14.952062Z",
     "shell.execute_reply.started": "2021-12-04T22:02:08.375025Z"
    },
    "papermill": {
     "duration": 0.069994,
     "end_time": "2021-12-04T22:05:14.952232",
     "exception": false,
     "start_time": "2021-12-04T22:05:14.882238",
     "status": "completed"
    },
    "tags": []
   },
   "outputs": [
    {
     "name": "stdout",
     "output_type": "stream",
     "text": [
      "<class 'pandas.core.frame.DataFrame'>\n",
      "RangeIndex: 73799 entries, 0 to 73798\n",
      "Data columns (total 14 columns):\n",
      " #   Column            Non-Null Count  Dtype \n",
      "---  ------            --------------  ----- \n",
      " 0   client_id         73799 non-null  int64 \n",
      " 1   education         73492 non-null  object\n",
      " 2   sex               73799 non-null  object\n",
      " 3   age               73799 non-null  int64 \n",
      " 4   car               73799 non-null  object\n",
      " 5   car_type          73799 non-null  object\n",
      " 6   decline_app_cnt   73799 non-null  int64 \n",
      " 7   good_work         73799 non-null  int64 \n",
      " 8   bki_request_cnt   73799 non-null  int64 \n",
      " 9   home_address      73799 non-null  int64 \n",
      " 10  work_address      73799 non-null  int64 \n",
      " 11  income            73799 non-null  int64 \n",
      " 12  foreign_passport  73799 non-null  object\n",
      " 13  default           73799 non-null  int64 \n",
      "dtypes: int64(9), object(5)\n",
      "memory usage: 7.9+ MB\n"
     ]
    }
   ],
   "source": [
    "df_train.info()"
   ]
  },
  {
   "cell_type": "code",
   "execution_count": 616,
   "id": "71b22dc5",
   "metadata": {
    "execution": {
     "iopub.execute_input": "2021-12-04T22:05:15.000054Z",
     "iopub.status.busy": "2021-12-04T22:05:14.998319Z",
     "iopub.status.idle": "2021-12-04T22:05:15.017795Z",
     "shell.execute_reply": "2021-12-04T22:05:15.018258Z",
     "shell.execute_reply.started": "2021-12-04T22:02:08.447694Z"
    },
    "papermill": {
     "duration": 0.045755,
     "end_time": "2021-12-04T22:05:15.018451",
     "exception": false,
     "start_time": "2021-12-04T22:05:14.972696",
     "status": "completed"
    },
    "tags": []
   },
   "outputs": [
    {
     "data": {
      "text/html": [
       "<div>\n",
       "<style scoped>\n",
       "    .dataframe tbody tr th:only-of-type {\n",
       "        vertical-align: middle;\n",
       "    }\n",
       "\n",
       "    .dataframe tbody tr th {\n",
       "        vertical-align: top;\n",
       "    }\n",
       "\n",
       "    .dataframe thead th {\n",
       "        text-align: right;\n",
       "    }\n",
       "</style>\n",
       "<table border=\"1\" class=\"dataframe\">\n",
       "  <thead>\n",
       "    <tr style=\"text-align: right;\">\n",
       "      <th></th>\n",
       "      <th>client_id</th>\n",
       "      <th>education</th>\n",
       "      <th>sex</th>\n",
       "      <th>age</th>\n",
       "      <th>car</th>\n",
       "      <th>car_type</th>\n",
       "      <th>decline_app_cnt</th>\n",
       "      <th>good_work</th>\n",
       "      <th>bki_request_cnt</th>\n",
       "      <th>home_address</th>\n",
       "      <th>work_address</th>\n",
       "      <th>income</th>\n",
       "      <th>foreign_passport</th>\n",
       "      <th>default</th>\n",
       "    </tr>\n",
       "  </thead>\n",
       "  <tbody>\n",
       "    <tr>\n",
       "      <th>0</th>\n",
       "      <td>25905</td>\n",
       "      <td>SCH</td>\n",
       "      <td>M</td>\n",
       "      <td>62</td>\n",
       "      <td>Y</td>\n",
       "      <td>Y</td>\n",
       "      <td>0</td>\n",
       "      <td>0</td>\n",
       "      <td>1</td>\n",
       "      <td>1</td>\n",
       "      <td>2</td>\n",
       "      <td>18000</td>\n",
       "      <td>N</td>\n",
       "      <td>0</td>\n",
       "    </tr>\n",
       "    <tr>\n",
       "      <th>1</th>\n",
       "      <td>63161</td>\n",
       "      <td>SCH</td>\n",
       "      <td>F</td>\n",
       "      <td>59</td>\n",
       "      <td>N</td>\n",
       "      <td>N</td>\n",
       "      <td>0</td>\n",
       "      <td>0</td>\n",
       "      <td>3</td>\n",
       "      <td>2</td>\n",
       "      <td>3</td>\n",
       "      <td>19000</td>\n",
       "      <td>N</td>\n",
       "      <td>0</td>\n",
       "    </tr>\n",
       "    <tr>\n",
       "      <th>2</th>\n",
       "      <td>25887</td>\n",
       "      <td>SCH</td>\n",
       "      <td>M</td>\n",
       "      <td>25</td>\n",
       "      <td>Y</td>\n",
       "      <td>N</td>\n",
       "      <td>2</td>\n",
       "      <td>0</td>\n",
       "      <td>1</td>\n",
       "      <td>1</td>\n",
       "      <td>2</td>\n",
       "      <td>30000</td>\n",
       "      <td>Y</td>\n",
       "      <td>0</td>\n",
       "    </tr>\n",
       "    <tr>\n",
       "      <th>3</th>\n",
       "      <td>16222</td>\n",
       "      <td>SCH</td>\n",
       "      <td>F</td>\n",
       "      <td>53</td>\n",
       "      <td>N</td>\n",
       "      <td>N</td>\n",
       "      <td>0</td>\n",
       "      <td>0</td>\n",
       "      <td>2</td>\n",
       "      <td>2</td>\n",
       "      <td>3</td>\n",
       "      <td>10000</td>\n",
       "      <td>N</td>\n",
       "      <td>0</td>\n",
       "    </tr>\n",
       "    <tr>\n",
       "      <th>4</th>\n",
       "      <td>101655</td>\n",
       "      <td>GRD</td>\n",
       "      <td>M</td>\n",
       "      <td>48</td>\n",
       "      <td>N</td>\n",
       "      <td>N</td>\n",
       "      <td>0</td>\n",
       "      <td>1</td>\n",
       "      <td>1</td>\n",
       "      <td>2</td>\n",
       "      <td>3</td>\n",
       "      <td>30000</td>\n",
       "      <td>Y</td>\n",
       "      <td>0</td>\n",
       "    </tr>\n",
       "  </tbody>\n",
       "</table>\n",
       "</div>"
      ],
      "text/plain": [
       "   client_id education sex  age car car_type  decline_app_cnt  good_work  \\\n",
       "0      25905       SCH   M   62   Y        Y                0          0   \n",
       "1      63161       SCH   F   59   N        N                0          0   \n",
       "2      25887       SCH   M   25   Y        N                2          0   \n",
       "3      16222       SCH   F   53   N        N                0          0   \n",
       "4     101655       GRD   M   48   N        N                0          1   \n",
       "\n",
       "   bki_request_cnt  home_address  work_address  income foreign_passport  \\\n",
       "0                1             1             2   18000                N   \n",
       "1                3             2             3   19000                N   \n",
       "2                1             1             2   30000                Y   \n",
       "3                2             2             3   10000                N   \n",
       "4                1             2             3   30000                Y   \n",
       "\n",
       "   default  \n",
       "0        0  \n",
       "1        0  \n",
       "2        0  \n",
       "3        0  \n",
       "4        0  "
      ]
     },
     "execution_count": 616,
     "metadata": {},
     "output_type": "execute_result"
    }
   ],
   "source": [
    "df_train.head(5)"
   ]
  },
  {
   "cell_type": "code",
   "execution_count": 617,
   "id": "4c39d14b",
   "metadata": {
    "execution": {
     "iopub.execute_input": "2021-12-04T22:05:15.065463Z",
     "iopub.status.busy": "2021-12-04T22:05:15.064636Z",
     "iopub.status.idle": "2021-12-04T22:05:15.086410Z",
     "shell.execute_reply": "2021-12-04T22:05:15.085738Z",
     "shell.execute_reply.started": "2021-12-04T22:02:08.472865Z"
    },
    "papermill": {
     "duration": 0.047135,
     "end_time": "2021-12-04T22:05:15.086564",
     "exception": false,
     "start_time": "2021-12-04T22:05:15.039429",
     "status": "completed"
    },
    "tags": []
   },
   "outputs": [
    {
     "name": "stdout",
     "output_type": "stream",
     "text": [
      "<class 'pandas.core.frame.DataFrame'>\n",
      "RangeIndex: 73799 entries, 0 to 73798\n",
      "Data columns (total 14 columns):\n",
      " #   Column            Non-Null Count  Dtype \n",
      "---  ------            --------------  ----- \n",
      " 0   client_id         73799 non-null  int64 \n",
      " 1   education         73492 non-null  object\n",
      " 2   sex               73799 non-null  object\n",
      " 3   age               73799 non-null  int64 \n",
      " 4   car               73799 non-null  object\n",
      " 5   car_type          73799 non-null  object\n",
      " 6   decline_app_cnt   73799 non-null  int64 \n",
      " 7   good_work         73799 non-null  int64 \n",
      " 8   bki_request_cnt   73799 non-null  int64 \n",
      " 9   home_address      73799 non-null  int64 \n",
      " 10  work_address      73799 non-null  int64 \n",
      " 11  income            73799 non-null  int64 \n",
      " 12  foreign_passport  73799 non-null  object\n",
      " 13  default           73799 non-null  int64 \n",
      "dtypes: int64(9), object(5)\n",
      "memory usage: 7.9+ MB\n"
     ]
    }
   ],
   "source": [
    "df_test.info()"
   ]
  },
  {
   "cell_type": "code",
   "execution_count": 618,
   "id": "c3928263",
   "metadata": {
    "execution": {
     "iopub.execute_input": "2021-12-04T22:05:15.138971Z",
     "iopub.status.busy": "2021-12-04T22:05:15.133463Z",
     "iopub.status.idle": "2021-12-04T22:05:15.142186Z",
     "shell.execute_reply": "2021-12-04T22:05:15.142636Z",
     "shell.execute_reply.started": "2021-12-04T22:02:08.515055Z"
    },
    "papermill": {
     "duration": 0.0345,
     "end_time": "2021-12-04T22:05:15.142796",
     "exception": false,
     "start_time": "2021-12-04T22:05:15.108296",
     "status": "completed"
    },
    "tags": []
   },
   "outputs": [
    {
     "data": {
      "text/html": [
       "<div>\n",
       "<style scoped>\n",
       "    .dataframe tbody tr th:only-of-type {\n",
       "        vertical-align: middle;\n",
       "    }\n",
       "\n",
       "    .dataframe tbody tr th {\n",
       "        vertical-align: top;\n",
       "    }\n",
       "\n",
       "    .dataframe thead th {\n",
       "        text-align: right;\n",
       "    }\n",
       "</style>\n",
       "<table border=\"1\" class=\"dataframe\">\n",
       "  <thead>\n",
       "    <tr style=\"text-align: right;\">\n",
       "      <th></th>\n",
       "      <th>client_id</th>\n",
       "      <th>education</th>\n",
       "      <th>sex</th>\n",
       "      <th>age</th>\n",
       "      <th>car</th>\n",
       "      <th>car_type</th>\n",
       "      <th>decline_app_cnt</th>\n",
       "      <th>good_work</th>\n",
       "      <th>bki_request_cnt</th>\n",
       "      <th>home_address</th>\n",
       "      <th>work_address</th>\n",
       "      <th>income</th>\n",
       "      <th>foreign_passport</th>\n",
       "      <th>default</th>\n",
       "    </tr>\n",
       "  </thead>\n",
       "  <tbody>\n",
       "    <tr>\n",
       "      <th>0</th>\n",
       "      <td>25905</td>\n",
       "      <td>SCH</td>\n",
       "      <td>M</td>\n",
       "      <td>62</td>\n",
       "      <td>Y</td>\n",
       "      <td>Y</td>\n",
       "      <td>0</td>\n",
       "      <td>0</td>\n",
       "      <td>1</td>\n",
       "      <td>1</td>\n",
       "      <td>2</td>\n",
       "      <td>18000</td>\n",
       "      <td>N</td>\n",
       "      <td>0</td>\n",
       "    </tr>\n",
       "    <tr>\n",
       "      <th>1</th>\n",
       "      <td>63161</td>\n",
       "      <td>SCH</td>\n",
       "      <td>F</td>\n",
       "      <td>59</td>\n",
       "      <td>N</td>\n",
       "      <td>N</td>\n",
       "      <td>0</td>\n",
       "      <td>0</td>\n",
       "      <td>3</td>\n",
       "      <td>2</td>\n",
       "      <td>3</td>\n",
       "      <td>19000</td>\n",
       "      <td>N</td>\n",
       "      <td>0</td>\n",
       "    </tr>\n",
       "    <tr>\n",
       "      <th>2</th>\n",
       "      <td>25887</td>\n",
       "      <td>SCH</td>\n",
       "      <td>M</td>\n",
       "      <td>25</td>\n",
       "      <td>Y</td>\n",
       "      <td>N</td>\n",
       "      <td>2</td>\n",
       "      <td>0</td>\n",
       "      <td>1</td>\n",
       "      <td>1</td>\n",
       "      <td>2</td>\n",
       "      <td>30000</td>\n",
       "      <td>Y</td>\n",
       "      <td>0</td>\n",
       "    </tr>\n",
       "    <tr>\n",
       "      <th>3</th>\n",
       "      <td>16222</td>\n",
       "      <td>SCH</td>\n",
       "      <td>F</td>\n",
       "      <td>53</td>\n",
       "      <td>N</td>\n",
       "      <td>N</td>\n",
       "      <td>0</td>\n",
       "      <td>0</td>\n",
       "      <td>2</td>\n",
       "      <td>2</td>\n",
       "      <td>3</td>\n",
       "      <td>10000</td>\n",
       "      <td>N</td>\n",
       "      <td>0</td>\n",
       "    </tr>\n",
       "    <tr>\n",
       "      <th>4</th>\n",
       "      <td>101655</td>\n",
       "      <td>GRD</td>\n",
       "      <td>M</td>\n",
       "      <td>48</td>\n",
       "      <td>N</td>\n",
       "      <td>N</td>\n",
       "      <td>0</td>\n",
       "      <td>1</td>\n",
       "      <td>1</td>\n",
       "      <td>2</td>\n",
       "      <td>3</td>\n",
       "      <td>30000</td>\n",
       "      <td>Y</td>\n",
       "      <td>0</td>\n",
       "    </tr>\n",
       "  </tbody>\n",
       "</table>\n",
       "</div>"
      ],
      "text/plain": [
       "   client_id education sex  age car car_type  decline_app_cnt  good_work  \\\n",
       "0      25905       SCH   M   62   Y        Y                0          0   \n",
       "1      63161       SCH   F   59   N        N                0          0   \n",
       "2      25887       SCH   M   25   Y        N                2          0   \n",
       "3      16222       SCH   F   53   N        N                0          0   \n",
       "4     101655       GRD   M   48   N        N                0          1   \n",
       "\n",
       "   bki_request_cnt  home_address  work_address  income foreign_passport  \\\n",
       "0                1             1             2   18000                N   \n",
       "1                3             2             3   19000                N   \n",
       "2                1             1             2   30000                Y   \n",
       "3                2             2             3   10000                N   \n",
       "4                1             2             3   30000                Y   \n",
       "\n",
       "   default  \n",
       "0        0  \n",
       "1        0  \n",
       "2        0  \n",
       "3        0  \n",
       "4        0  "
      ]
     },
     "execution_count": 618,
     "metadata": {},
     "output_type": "execute_result"
    }
   ],
   "source": [
    "sample_submission.head(5)"
   ]
  },
  {
   "cell_type": "code",
   "execution_count": 619,
   "id": "aa636993",
   "metadata": {
    "execution": {
     "iopub.execute_input": "2021-12-04T22:05:15.195618Z",
     "iopub.status.busy": "2021-12-04T22:05:15.194939Z",
     "iopub.status.idle": "2021-12-04T22:05:15.197620Z",
     "shell.execute_reply": "2021-12-04T22:05:15.198096Z",
     "shell.execute_reply.started": "2021-12-04T22:02:08.525951Z"
    },
    "papermill": {
     "duration": 0.034982,
     "end_time": "2021-12-04T22:05:15.198260",
     "exception": false,
     "start_time": "2021-12-04T22:05:15.163278",
     "status": "completed"
    },
    "tags": []
   },
   "outputs": [
    {
     "name": "stdout",
     "output_type": "stream",
     "text": [
      "<class 'pandas.core.frame.DataFrame'>\n",
      "RangeIndex: 73799 entries, 0 to 73798\n",
      "Data columns (total 14 columns):\n",
      " #   Column            Non-Null Count  Dtype \n",
      "---  ------            --------------  ----- \n",
      " 0   client_id         73799 non-null  int64 \n",
      " 1   education         73492 non-null  object\n",
      " 2   sex               73799 non-null  object\n",
      " 3   age               73799 non-null  int64 \n",
      " 4   car               73799 non-null  object\n",
      " 5   car_type          73799 non-null  object\n",
      " 6   decline_app_cnt   73799 non-null  int64 \n",
      " 7   good_work         73799 non-null  int64 \n",
      " 8   bki_request_cnt   73799 non-null  int64 \n",
      " 9   home_address      73799 non-null  int64 \n",
      " 10  work_address      73799 non-null  int64 \n",
      " 11  income            73799 non-null  int64 \n",
      " 12  foreign_passport  73799 non-null  object\n",
      " 13  default           73799 non-null  int64 \n",
      "dtypes: int64(9), object(5)\n",
      "memory usage: 7.9+ MB\n"
     ]
    }
   ],
   "source": [
    "sample_submission.info()"
   ]
  },
  {
   "cell_type": "code",
   "execution_count": 620,
   "id": "49b55667",
   "metadata": {
    "execution": {
     "iopub.execute_input": "2021-12-04T22:05:15.246699Z",
     "iopub.status.busy": "2021-12-04T22:05:15.243721Z",
     "iopub.status.idle": "2021-12-04T22:05:15.318194Z",
     "shell.execute_reply": "2021-12-04T22:05:15.318687Z",
     "shell.execute_reply.started": "2021-12-04T22:02:08.543928Z"
    },
    "papermill": {
     "duration": 0.099435,
     "end_time": "2021-12-04T22:05:15.318876",
     "exception": false,
     "start_time": "2021-12-04T22:05:15.219441",
     "status": "completed"
    },
    "tags": []
   },
   "outputs": [],
   "source": [
    "# ВАЖНО! дря корректной обработки признаков объединяем трейн и тест в один датасет\n",
    "df_train['sample'] = 1 # помечаем где у нас трейн\n",
    "df_test['sample'] = 0  # помечаем где у нас тест\n",
    "df_test['default'] = 0 # в тесте у нас нет значения Rating, мы его должны предсказать, по этому пока просто заполняем нулями\n",
    "\n",
    "data = df_test.append(df_train, sort=False).reset_index(drop=True) # объединяем"
   ]
  },
  {
   "cell_type": "code",
   "execution_count": 621,
   "id": "ac001ad2",
   "metadata": {
    "execution": {
     "iopub.execute_input": "2021-12-04T22:05:15.367139Z",
     "iopub.status.busy": "2021-12-04T22:05:15.365601Z",
     "iopub.status.idle": "2021-12-04T22:05:15.430798Z",
     "shell.execute_reply": "2021-12-04T22:05:15.430272Z",
     "shell.execute_reply.started": "2021-12-04T22:02:08.640315Z"
    },
    "papermill": {
     "duration": 0.090008,
     "end_time": "2021-12-04T22:05:15.430932",
     "exception": false,
     "start_time": "2021-12-04T22:05:15.340924",
     "status": "completed"
    },
    "tags": []
   },
   "outputs": [
    {
     "data": {
      "text/plain": [
       "client_id           73799\n",
       "education               6\n",
       "sex                     2\n",
       "age                    52\n",
       "car                     2\n",
       "car_type                2\n",
       "decline_app_cnt        21\n",
       "good_work               2\n",
       "bki_request_cnt        38\n",
       "home_address            3\n",
       "work_address            3\n",
       "income                966\n",
       "foreign_passport        2\n",
       "default                 2\n",
       "sample                  2\n",
       "dtype: int64"
      ]
     },
     "execution_count": 621,
     "metadata": {},
     "output_type": "execute_result"
    }
   ],
   "source": [
    "data.nunique(dropna=False)"
   ]
  },
  {
   "cell_type": "code",
   "execution_count": 622,
   "id": "be7b7d64",
   "metadata": {
    "execution": {
     "iopub.execute_input": "2021-12-04T22:05:15.481885Z",
     "iopub.status.busy": "2021-12-04T22:05:15.481041Z",
     "iopub.status.idle": "2021-12-04T22:05:15.483108Z",
     "shell.execute_reply": "2021-12-04T22:05:15.483525Z",
     "shell.execute_reply.started": "2021-12-04T22:02:08.726645Z"
    },
    "papermill": {
     "duration": 0.02995,
     "end_time": "2021-12-04T22:05:15.483689",
     "exception": false,
     "start_time": "2021-12-04T22:05:15.453739",
     "status": "completed"
    },
    "tags": []
   },
   "outputs": [],
   "source": [
    "num_cols = ['age', 'decline_app_cnt', 'bki_request_cnt', 'income']\n",
    "cat_cols = ['education', 'work_address', 'home_address']\n",
    "bin_cols = ['sex', 'car', 'car_type', 'good_work', 'foreign_passport']"
   ]
  },
  {
   "cell_type": "code",
   "execution_count": 623,
   "id": "e3bb96d4",
   "metadata": {},
   "outputs": [
    {
     "data": {
      "image/png": "[encoded data removed]",
      "text/plain": [
       "<Figure size 432x288 with 1 Axes>"
      ]
     },
     "metadata": {
      "needs_background": "light"
     },
     "output_type": "display_data"
    },
    {
     "data": {
      "image/png": "[encoded data removed]",
      "text/plain": [
       "<Figure size 432x288 with 1 Axes>"
      ]
     },
     "metadata": {
      "needs_background": "light"
     },
     "output_type": "display_data"
    },
    {
     "data": {
      "image/png": "[encoded data removed]",
      "text/plain": [
       "<Figure size 432x288 with 1 Axes>"
      ]
     },
     "metadata": {
      "needs_background": "light"
     },
     "output_type": "display_data"
    },
    {
     "data": {
      "image/png": "[encoded data removed]",
      "text/plain": [
       "<Figure size 432x288 with 1 Axes>"
      ]
     },
     "metadata": {
      "needs_background": "light"
     },
     "output_type": "display_data"
    }
   ],
   "source": [
    "#Проверим распределение числовых признаков:\n",
    "\n",
    "for i in num_cols:\n",
    "    plt.figure()\n",
    "    sns.distplot(data[i])\n",
    "    plt.title(i)\n",
    "    plt.show()"
   ]
  },
  {
   "cell_type": "code",
   "execution_count": 624,
   "id": "7eebeb79",
   "metadata": {},
   "outputs": [
    {
     "data": {
      "text/plain": [
       "<AxesSubplot:>"
      ]
     },
     "execution_count": 624,
     "metadata": {},
     "output_type": "execute_result"
    },
    {
     "data": {
      "image/png": "[encoded data removed]",
      "text/plain": [
       "<Figure size 432x288 with 1 Axes>"
      ]
     },
     "metadata": {
      "needs_background": "light"
     },
     "output_type": "display_data"
    }
   ],
   "source": [
    "# посмотрим на целевую переменную\n",
    "\n",
    "data['default'].value_counts(ascending=True).plot(kind='barh')"
   ]
  },
  {
   "cell_type": "markdown",
   "id": "8bf87c09",
   "metadata": {},
   "source": [
    "Сразу можно сказать, что выборка несбалансированная, много больше клиентов без дефолта."
   ]
  },
  {
   "cell_type": "code",
   "execution_count": 625,
   "id": "c4048845",
   "metadata": {
    "execution": {
     "iopub.execute_input": "2021-12-04T22:05:15.805171Z",
     "iopub.status.busy": "2021-12-04T22:05:15.804229Z",
     "iopub.status.idle": "2021-12-04T22:05:15.813845Z",
     "shell.execute_reply": "2021-12-04T22:05:15.813386Z",
     "shell.execute_reply.started": "2021-12-04T22:02:08.956936Z"
    },
    "papermill": {
     "duration": 0.037205,
     "end_time": "2021-12-04T22:05:15.814011",
     "exception": false,
     "start_time": "2021-12-04T22:05:15.776806",
     "status": "completed"
    },
    "tags": []
   },
   "outputs": [
    {
     "name": "stdout",
     "output_type": "stream",
     "text": [
      "<class 'pandas.core.frame.DataFrame'>\n",
      "RangeIndex: 147598 entries, 0 to 147597\n",
      "Data columns (total 15 columns):\n",
      " #   Column            Non-Null Count   Dtype \n",
      "---  ------            --------------   ----- \n",
      " 0   client_id         147598 non-null  int64 \n",
      " 1   education         146984 non-null  object\n",
      " 2   sex               147598 non-null  object\n",
      " 3   age               147598 non-null  int64 \n",
      " 4   car               147598 non-null  object\n",
      " 5   car_type          147598 non-null  object\n",
      " 6   decline_app_cnt   147598 non-null  int64 \n",
      " 7   good_work         147598 non-null  int64 \n",
      " 8   bki_request_cnt   147598 non-null  int64 \n",
      " 9   home_address      147598 non-null  int64 \n",
      " 10  work_address      147598 non-null  int64 \n",
      " 11  income            147598 non-null  int64 \n",
      " 12  foreign_passport  147598 non-null  object\n",
      " 13  default           147598 non-null  int64 \n",
      " 14  sample            147598 non-null  int64 \n",
      "dtypes: int64(10), object(5)\n",
      "memory usage: 16.9+ MB\n",
      "None\n",
      "\n",
      "(147598, 15)\n",
      "client_id             0\n",
      "education           614\n",
      "sex                   0\n",
      "age                   0\n",
      "car                   0\n",
      "car_type              0\n",
      "decline_app_cnt       0\n",
      "good_work             0\n",
      "bki_request_cnt       0\n",
      "home_address          0\n",
      "work_address          0\n",
      "income                0\n",
      "foreign_passport      0\n",
      "default               0\n",
      "sample                0\n",
      "dtype: int64\n"
     ]
    }
   ],
   "source": [
    "#Посмотрим на тип данных и наличие пропусков:\n",
    "print(data.info())\n",
    "print()\n",
    "print(data.shape)\n",
    "print(data.isnull().sum())"
   ]
  },
  {
   "cell_type": "markdown",
   "id": "e0ee5777",
   "metadata": {},
   "source": [
    "В данных о клиентах присутствуют переменные всех типов, не все имеют числовую запись, а также есть пропущенные значения в категориальной переменной 'education'."
   ]
  },
  {
   "cell_type": "code",
   "execution_count": 626,
   "id": "c9e85921",
   "metadata": {},
   "outputs": [
    {
     "name": "stdout",
     "output_type": "stream",
     "text": [
      "Пропущенные значения: 614\n",
      "\n"
     ]
    },
    {
     "data": {
      "image/png": "[encoded data removed]",
      "text/plain": [
       "<Figure size 576x432 with 1 Axes>"
      ]
     },
     "metadata": {
      "needs_background": "light"
     },
     "output_type": "display_data"
    }
   ],
   "source": [
    "data.education.value_counts().plot(\n",
    "    kind=\"bar\",\n",
    "    figsize=(8,6),\n",
    "    color=\"r\",\n",
    "    title='Distribution of clients by Education',\n",
    "    xlabel='education level',\n",
    "    ylabel='number of clients'\n",
    ")\n",
    "\n",
    "print(\"Пропущенные значения:\", data.education.isna().sum())\n",
    "print()"
   ]
  },
  {
   "cell_type": "code",
   "execution_count": 627,
   "id": "a04e08c2",
   "metadata": {},
   "outputs": [],
   "source": [
    "# заполним пропуски наиболее часто встречающимся значением\n",
    "data.education = data.education.fillna(\"SCH\")"
   ]
  },
  {
   "cell_type": "markdown",
   "id": "3120b121",
   "metadata": {},
   "source": [
    "### Количественные признаки\n",
    "\n",
    "Проверим числовые признаки на наличие выбросов."
   ]
  },
  {
   "cell_type": "code",
   "execution_count": 628,
   "id": "9938df9e",
   "metadata": {},
   "outputs": [
    {
     "name": "stdout",
     "output_type": "stream",
     "text": [
      "25-й перцентиль: 30.0, 75-й перцентиль: 48.0, IQR: 18.0, Границы выбросов [3.0, 75.0].\n"
     ]
    },
    {
     "data": {
      "text/plain": [
       "<module 'matplotlib.pyplot' from 'C:\\\\Users\\\\m9\\\\anaconda3\\\\lib\\\\site-packages\\\\matplotlib\\\\pyplot.py'>"
      ]
     },
     "execution_count": 628,
     "metadata": {},
     "output_type": "execute_result"
    },
    {
     "data": {
      "image/png": "[encoded data removed]",
      "text/plain": [
       "<Figure size 432x288 with 1 Axes>"
      ]
     },
     "metadata": {
      "needs_background": "light"
     },
     "output_type": "display_data"
    }
   ],
   "source": [
    "# 'age'\n",
    "## Найдем границы выбрасов\n",
    "\n",
    "median_age = data.age.median()\n",
    "IQR_age = data.age.quantile(0.75) - data.age.quantile(0.25)\n",
    "quant_25_age = data.age.quantile(0.25)\n",
    "quant_75_age = data.age.quantile(0.75)\n",
    "print('25-й перцентиль: {}, 75-й перцентиль: {}, IQR: {}, Границы выбросов [{}, {}].'.format(\n",
    "    quant_25_age, quant_75_age, \n",
    "    IQR_age, \n",
    "    quant_25_age - 1.5*IQR_age, \n",
    "    quant_75_age + 1.5*IQR_age))\n",
    "data.age.loc[data.age.between(\n",
    "    quant_25_age - 1.5*IQR_age, \n",
    "    quant_75_age + 1.5*IQR_age)].hist(bins=10, range=(0, 80))\n",
    "plt"
   ]
  },
  {
   "cell_type": "code",
   "execution_count": 629,
   "id": "81edaf9f",
   "metadata": {},
   "outputs": [
    {
     "data": {
      "text/plain": [
       "count    147598.000000\n",
       "mean         39.280641\n",
       "std          11.520339\n",
       "min          21.000000\n",
       "25%          30.000000\n",
       "50%          37.000000\n",
       "75%          48.000000\n",
       "max          72.000000\n",
       "Name: age, dtype: float64"
      ]
     },
     "execution_count": 629,
     "metadata": {},
     "output_type": "execute_result"
    }
   ],
   "source": [
    "data.age.describe() # Посмотрим с помощью описательной статистики."
   ]
  },
  {
   "cell_type": "code",
   "execution_count": 630,
   "id": "c342615e",
   "metadata": {},
   "outputs": [
    {
     "name": "stdout",
     "output_type": "stream",
     "text": [
      "25-й перцентиль: 0.0, 75-й перцентиль: 0.0, IQR: 0.0, Границы выбросов [0.0, 0.0].\n"
     ]
    },
    {
     "data": {
      "text/plain": [
       "<module 'matplotlib.pyplot' from 'C:\\\\Users\\\\m9\\\\anaconda3\\\\lib\\\\site-packages\\\\matplotlib\\\\pyplot.py'>"
      ]
     },
     "execution_count": 630,
     "metadata": {},
     "output_type": "execute_result"
    },
    {
     "data": {
      "image/png": "[encoded data removed]",
      "text/plain": [
       "<Figure size 432x288 with 1 Axes>"
      ]
     },
     "metadata": {
      "needs_background": "light"
     },
     "output_type": "display_data"
    }
   ],
   "source": [
    "# 'decline_app_cnt'\n",
    "## Найдем границы выбрасов\n",
    "\n",
    "median_decline_app_cnt = data.decline_app_cnt.median()\n",
    "IQR_decline_app_cnt = data.decline_app_cnt.quantile(0.75) - data.decline_app_cnt.quantile(0.25)\n",
    "quant_25_decline_app_cnt = data.decline_app_cnt.quantile(0.25)\n",
    "quant_75_decline_app_cnt = data.decline_app_cnt.quantile(0.75)\n",
    "print('25-й перцентиль: {}, 75-й перцентиль: {}, IQR: {}, Границы выбросов [{}, {}].'.format(\n",
    "    quant_25_decline_app_cnt, quant_75_decline_app_cnt, \n",
    "    IQR_decline_app_cnt, \n",
    "    quant_25_decline_app_cnt - 1.5*IQR_decline_app_cnt, \n",
    "    quant_75_decline_app_cnt + 1.5*IQR_decline_app_cnt))\n",
    "data.decline_app_cnt.loc[data.decline_app_cnt.between(\n",
    "    quant_25_decline_app_cnt - 1.5*IQR_decline_app_cnt, \n",
    "    quant_75_decline_app_cnt + 1.5*IQR_decline_app_cnt)].hist(bins=10, range=(0, 10))\n",
    "plt"
   ]
  },
  {
   "cell_type": "code",
   "execution_count": 631,
   "id": "17cd9977",
   "metadata": {},
   "outputs": [
    {
     "data": {
      "text/plain": [
       "count    147598.000000\n",
       "mean          0.275749\n",
       "std           0.804269\n",
       "min           0.000000\n",
       "25%           0.000000\n",
       "50%           0.000000\n",
       "75%           0.000000\n",
       "max          33.000000\n",
       "Name: decline_app_cnt, dtype: float64"
      ]
     },
     "execution_count": 631,
     "metadata": {},
     "output_type": "execute_result"
    }
   ],
   "source": [
    "data.decline_app_cnt.describe() # Посмотрим с помощью описательной статистики."
   ]
  },
  {
   "cell_type": "code",
   "execution_count": 632,
   "id": "0f204ad2",
   "metadata": {},
   "outputs": [
    {
     "data": {
      "text/plain": [
       "<AxesSubplot:>"
      ]
     },
     "execution_count": 632,
     "metadata": {},
     "output_type": "execute_result"
    },
    {
     "data": {
      "image/png": "[encoded data removed]",
      "text/plain": [
       "<Figure size 432x288 with 1 Axes>"
      ]
     },
     "metadata": {
      "needs_background": "light"
     },
     "output_type": "display_data"
    }
   ],
   "source": [
    "data.boxplot(column=['decline_app_cnt']) # Построим ящик с усами."
   ]
  },
  {
   "cell_type": "markdown",
   "id": "ae6c43b1",
   "metadata": {},
   "source": [
    "Мы видим, что все значения отличные от нуля считаются выбросами, удалять их не имеет смысла, так что посмотрим как поведет себя модель с данным признаком."
   ]
  },
  {
   "cell_type": "code",
   "execution_count": 633,
   "id": "6742b1f9",
   "metadata": {},
   "outputs": [
    {
     "name": "stdout",
     "output_type": "stream",
     "text": [
      "25-й перцентиль: 0.0, 75-й перцентиль: 3.0, IQR: 3.0, Границы выбросов [-4.5, 7.5].\n"
     ]
    },
    {
     "data": {
      "text/plain": [
       "<module 'matplotlib.pyplot' from 'C:\\\\Users\\\\m9\\\\anaconda3\\\\lib\\\\site-packages\\\\matplotlib\\\\pyplot.py'>"
      ]
     },
     "execution_count": 633,
     "metadata": {},
     "output_type": "execute_result"
    },
    {
     "data": {
      "image/png": "[encoded data removed]",
      "text/plain": [
       "<Figure size 432x288 with 1 Axes>"
      ]
     },
     "metadata": {
      "needs_background": "light"
     },
     "output_type": "display_data"
    }
   ],
   "source": [
    "# 'bki_request_cnt'\n",
    "## Найдем границы выбрасов\n",
    "\n",
    "median_bki_request_cnt = data.bki_request_cnt.median()\n",
    "IQR_bki_request_cnt = data.bki_request_cnt.quantile(0.75) - data.bki_request_cnt.quantile(0.25)\n",
    "quant_25_bki_request_cnt = data.bki_request_cnt.quantile(0.25)\n",
    "quant_75_bki_request_cnt = data.bki_request_cnt.quantile(0.75)\n",
    "print('25-й перцентиль: {}, 75-й перцентиль: {}, IQR: {}, Границы выбросов [{}, {}].'.format(\n",
    "    quant_25_bki_request_cnt, quant_75_bki_request_cnt, \n",
    "    IQR_bki_request_cnt, \n",
    "    quant_25_bki_request_cnt - 1.5*IQR_bki_request_cnt, \n",
    "    quant_75_bki_request_cnt + 1.5*IQR_bki_request_cnt))\n",
    "data.bki_request_cnt.loc[data.bki_request_cnt.between(\n",
    "    quant_25_bki_request_cnt - 1.5*IQR_bki_request_cnt, \n",
    "    quant_75_bki_request_cnt + 1.5*IQR_bki_request_cnt)].hist(bins=5, range=(0, 10))\n",
    "plt"
   ]
  },
  {
   "cell_type": "code",
   "execution_count": 634,
   "id": "b7dcb67a",
   "metadata": {},
   "outputs": [
    {
     "data": {
      "text/plain": [
       "count    147598.000000\n",
       "mean          2.000339\n",
       "std           2.252065\n",
       "min           0.000000\n",
       "25%           0.000000\n",
       "50%           1.000000\n",
       "75%           3.000000\n",
       "max          53.000000\n",
       "Name: bki_request_cnt, dtype: float64"
      ]
     },
     "execution_count": 634,
     "metadata": {},
     "output_type": "execute_result"
    }
   ],
   "source": [
    "data.bki_request_cnt.describe() # Посмотрим с помощью описательной статистики.\n"
   ]
  },
  {
   "cell_type": "code",
   "execution_count": 635,
   "id": "c08ec80e",
   "metadata": {},
   "outputs": [
    {
     "name": "stdout",
     "output_type": "stream",
     "text": [
      "25-й перцентиль: 20000.0, 75-й перцентиль: 48000.0, IQR: 28000.0, Границы выбросов [-22000.0, 90000.0].\n"
     ]
    },
    {
     "data": {
      "text/plain": [
       "<module 'matplotlib.pyplot' from 'C:\\\\Users\\\\m9\\\\anaconda3\\\\lib\\\\site-packages\\\\matplotlib\\\\pyplot.py'>"
      ]
     },
     "execution_count": 635,
     "metadata": {},
     "output_type": "execute_result"
    },
    {
     "data": {
      "image/png": "[encoded data removed]",
      "text/plain": [
       "<Figure size 432x288 with 1 Axes>"
      ]
     },
     "metadata": {
      "needs_background": "light"
     },
     "output_type": "display_data"
    }
   ],
   "source": [
    "# 'income'\n",
    "## Найдем границы выбрасов\n",
    "\n",
    "median_income = data.income.median()\n",
    "IQR_income = data.income.quantile(0.75) - data.income.quantile(0.25)\n",
    "quant_25_income = data.income.quantile(0.25)\n",
    "quant_75_income = data.income.quantile(0.75)\n",
    "print('25-й перцентиль: {}, 75-й перцентиль: {}, IQR: {}, Границы выбросов [{}, {}].'.format(\n",
    "    quant_25_income, quant_75_income, \n",
    "    IQR_income, \n",
    "    quant_25_income - 1.5*IQR_income, \n",
    "    quant_75_income + 1.5*IQR_income))\n",
    "data.income.loc[data.income.between(\n",
    "    quant_25_income - 1.5*IQR_income, \n",
    "    quant_75_income + 1.5*IQR_income)].hist(bins=10, range=(0, 100000))\n",
    "plt"
   ]
  },
  {
   "cell_type": "code",
   "execution_count": 636,
   "id": "3a10cd37",
   "metadata": {},
   "outputs": [
    {
     "data": {
      "text/plain": [
       "count     147598.000000\n",
       "mean       41099.775417\n",
       "std        46166.166006\n",
       "min         1000.000000\n",
       "25%        20000.000000\n",
       "50%        30000.000000\n",
       "75%        48000.000000\n",
       "max      1000000.000000\n",
       "Name: income, dtype: float64"
      ]
     },
     "execution_count": 636,
     "metadata": {},
     "output_type": "execute_result"
    }
   ],
   "source": [
    "data.income.describe() # Посмотрим с помощью описательной статистики.\n"
   ]
  },
  {
   "cell_type": "markdown",
   "id": "351f9016",
   "metadata": {},
   "source": [
    "В результате мы увидели, что выбросы есть в параметрах:  'bki_request_cnt' и 'income'. Теперь удаляем."
   ]
  },
  {
   "cell_type": "code",
   "execution_count": 637,
   "id": "93b28364",
   "metadata": {},
   "outputs": [],
   "source": [
    "# Удалим выбросы\n",
    "q_low_brc = quant_25_bki_request_cnt - 1.5*IQR_bki_request_cnt\n",
    "q_hi_brc  = quant_75_bki_request_cnt + 1.5*IQR_bki_request_cnt\n",
    "\n",
    "data = data[(data['bki_request_cnt'] < q_hi_brc) & (data['bki_request_cnt'] > q_low_brc)]"
   ]
  },
  {
   "cell_type": "code",
   "execution_count": 638,
   "id": "6f330a62",
   "metadata": {},
   "outputs": [],
   "source": [
    "q_low_inc = quant_25_income - 1.5*IQR_income\n",
    "q_hi_inc  = quant_75_income + 1.5*IQR_income\n",
    "\n",
    "data = data[(data['income'] < q_hi_inc) & (data['income'] > q_low_brc)]"
   ]
  },
  {
   "cell_type": "code",
   "execution_count": 639,
   "id": "c7f70ca8",
   "metadata": {},
   "outputs": [
    {
     "data": {
      "text/plain": [
       "<AxesSubplot:>"
      ]
     },
     "execution_count": 639,
     "metadata": {},
     "output_type": "execute_result"
    },
    {
     "data": {
      "image/png": "[encoded data removed]",
      "text/plain": [
       "<Figure size 432x288 with 2 Axes>"
      ]
     },
     "metadata": {
      "needs_background": "light"
     },
     "output_type": "display_data"
    }
   ],
   "source": [
    "#Проведем корреляционный анализ, что бы отобрать низко коррелируемые признаки.\n",
    "\n",
    "plt.figure()\n",
    "sns.heatmap((data[['age', 'decline_app_cnt', 'bki_request_cnt', 'income', 'default']]).corr())"
   ]
  },
  {
   "cell_type": "markdown",
   "id": "7326cdca",
   "metadata": {},
   "source": [
    "Корреляция между признаками < 0.4, поэтому на данном этапе никакие признаки удалять из модели не будем."
   ]
  },
  {
   "cell_type": "code",
   "execution_count": 640,
   "id": "92e31523",
   "metadata": {},
   "outputs": [
    {
     "data": {
      "text/plain": [
       "<AxesSubplot:>"
      ]
     },
     "execution_count": 640,
     "metadata": {},
     "output_type": "execute_result"
    },
    {
     "data": {
      "image/png": "[encoded data removed]",
      "text/plain": [
       "<Figure size 432x288 with 1 Axes>"
      ]
     },
     "metadata": {
      "needs_background": "light"
     },
     "output_type": "display_data"
    }
   ],
   "source": [
    "#Оценим значимость числовых переменных для модели\n",
    "\n",
    "imp_num = Series(f_classif(data[num_cols], data['default'])[0], index = num_cols)\n",
    "imp_num.sort_values(inplace = True)\n",
    "imp_num.plot(kind = 'barh')"
   ]
  },
  {
   "cell_type": "markdown",
   "id": "549c439d",
   "metadata": {},
   "source": [
    "Самые значимые признаки -  decline_app_cnt и bki_request_cnt\n"
   ]
  },
  {
   "cell_type": "markdown",
   "id": "dddb335c",
   "metadata": {},
   "source": [
    "### Категоральные признаки.\n",
    "\n",
    "Преобразуем бинарные признаки в числовые (0 или 1).\n",
    "\n"
   ]
  },
  {
   "cell_type": "code",
   "execution_count": 641,
   "id": "6229d92a",
   "metadata": {},
   "outputs": [
    {
     "name": "stdout",
     "output_type": "stream",
     "text": [
      "{0: 'F', 1: 'M'}\n"
     ]
    }
   ],
   "source": [
    "label_encoder = LabelEncoder()\n",
    "\n",
    "mapped_education = pd.Series(label_encoder.fit_transform(data['sex']))\n",
    "print(dict(enumerate(label_encoder.classes_)))"
   ]
  },
  {
   "cell_type": "code",
   "execution_count": 642,
   "id": "790c078e",
   "metadata": {},
   "outputs": [
    {
     "data": {
      "text/html": [
       "<div>\n",
       "<style scoped>\n",
       "    .dataframe tbody tr th:only-of-type {\n",
       "        vertical-align: middle;\n",
       "    }\n",
       "\n",
       "    .dataframe tbody tr th {\n",
       "        vertical-align: top;\n",
       "    }\n",
       "\n",
       "    .dataframe thead th {\n",
       "        text-align: right;\n",
       "    }\n",
       "</style>\n",
       "<table border=\"1\" class=\"dataframe\">\n",
       "  <thead>\n",
       "    <tr style=\"text-align: right;\">\n",
       "      <th></th>\n",
       "      <th>client_id</th>\n",
       "      <th>education</th>\n",
       "      <th>sex</th>\n",
       "      <th>age</th>\n",
       "      <th>car</th>\n",
       "      <th>car_type</th>\n",
       "      <th>decline_app_cnt</th>\n",
       "      <th>good_work</th>\n",
       "      <th>bki_request_cnt</th>\n",
       "      <th>home_address</th>\n",
       "      <th>work_address</th>\n",
       "      <th>income</th>\n",
       "      <th>foreign_passport</th>\n",
       "      <th>default</th>\n",
       "      <th>sample</th>\n",
       "    </tr>\n",
       "  </thead>\n",
       "  <tbody>\n",
       "    <tr>\n",
       "      <th>0</th>\n",
       "      <td>25905</td>\n",
       "      <td>SCH</td>\n",
       "      <td>1</td>\n",
       "      <td>62</td>\n",
       "      <td>1</td>\n",
       "      <td>1</td>\n",
       "      <td>0</td>\n",
       "      <td>0</td>\n",
       "      <td>1</td>\n",
       "      <td>1</td>\n",
       "      <td>2</td>\n",
       "      <td>18000</td>\n",
       "      <td>0</td>\n",
       "      <td>0</td>\n",
       "      <td>0</td>\n",
       "    </tr>\n",
       "    <tr>\n",
       "      <th>1</th>\n",
       "      <td>63161</td>\n",
       "      <td>SCH</td>\n",
       "      <td>0</td>\n",
       "      <td>59</td>\n",
       "      <td>0</td>\n",
       "      <td>0</td>\n",
       "      <td>0</td>\n",
       "      <td>0</td>\n",
       "      <td>3</td>\n",
       "      <td>2</td>\n",
       "      <td>3</td>\n",
       "      <td>19000</td>\n",
       "      <td>0</td>\n",
       "      <td>0</td>\n",
       "      <td>0</td>\n",
       "    </tr>\n",
       "    <tr>\n",
       "      <th>2</th>\n",
       "      <td>25887</td>\n",
       "      <td>SCH</td>\n",
       "      <td>1</td>\n",
       "      <td>25</td>\n",
       "      <td>1</td>\n",
       "      <td>0</td>\n",
       "      <td>2</td>\n",
       "      <td>0</td>\n",
       "      <td>1</td>\n",
       "      <td>1</td>\n",
       "      <td>2</td>\n",
       "      <td>30000</td>\n",
       "      <td>1</td>\n",
       "      <td>0</td>\n",
       "      <td>0</td>\n",
       "    </tr>\n",
       "    <tr>\n",
       "      <th>3</th>\n",
       "      <td>16222</td>\n",
       "      <td>SCH</td>\n",
       "      <td>0</td>\n",
       "      <td>53</td>\n",
       "      <td>0</td>\n",
       "      <td>0</td>\n",
       "      <td>0</td>\n",
       "      <td>0</td>\n",
       "      <td>2</td>\n",
       "      <td>2</td>\n",
       "      <td>3</td>\n",
       "      <td>10000</td>\n",
       "      <td>0</td>\n",
       "      <td>0</td>\n",
       "      <td>0</td>\n",
       "    </tr>\n",
       "    <tr>\n",
       "      <th>4</th>\n",
       "      <td>101655</td>\n",
       "      <td>GRD</td>\n",
       "      <td>1</td>\n",
       "      <td>48</td>\n",
       "      <td>0</td>\n",
       "      <td>0</td>\n",
       "      <td>0</td>\n",
       "      <td>1</td>\n",
       "      <td>1</td>\n",
       "      <td>2</td>\n",
       "      <td>3</td>\n",
       "      <td>30000</td>\n",
       "      <td>1</td>\n",
       "      <td>0</td>\n",
       "      <td>0</td>\n",
       "    </tr>\n",
       "  </tbody>\n",
       "</table>\n",
       "</div>"
      ],
      "text/plain": [
       "   client_id education  sex  age  car  car_type  decline_app_cnt  good_work  \\\n",
       "0      25905       SCH    1   62    1         1                0          0   \n",
       "1      63161       SCH    0   59    0         0                0          0   \n",
       "2      25887       SCH    1   25    1         0                2          0   \n",
       "3      16222       SCH    0   53    0         0                0          0   \n",
       "4     101655       GRD    1   48    0         0                0          1   \n",
       "\n",
       "   bki_request_cnt  home_address  work_address  income  foreign_passport  \\\n",
       "0                1             1             2   18000                 0   \n",
       "1                3             2             3   19000                 0   \n",
       "2                1             1             2   30000                 1   \n",
       "3                2             2             3   10000                 0   \n",
       "4                1             2             3   30000                 1   \n",
       "\n",
       "   default  sample  \n",
       "0        0       0  \n",
       "1        0       0  \n",
       "2        0       0  \n",
       "3        0       0  \n",
       "4        0       0  "
      ]
     },
     "execution_count": 642,
     "metadata": {},
     "output_type": "execute_result"
    }
   ],
   "source": [
    "# Для бинарных признаков мы будем использовать LabelEncoder\n",
    "\n",
    "label_encoder = LabelEncoder()\n",
    "\n",
    "for column in bin_cols:\n",
    "    data[column] = label_encoder.fit_transform(data[column])\n",
    "    \n",
    "# убедимся в преобразовании    \n",
    "data.head()"
   ]
  },
  {
   "cell_type": "code",
   "execution_count": 643,
   "id": "682f4aac",
   "metadata": {},
   "outputs": [
    {
     "name": "stdout",
     "output_type": "stream",
     "text": [
      "{'education': {0: 'ACD', 1: 'GRD', 2: 'PGR', 3: 'SCH', 4: 'UGR'}, 'work_address': {0: 1, 1: 2, 2: 3}, 'home_address': {0: 1, 1: 2, 2: 3}}\n"
     ]
    }
   ],
   "source": [
    "# закодируем категориальные признаки\n",
    "\n",
    "mappc = {}\n",
    "\n",
    "label_encoder = LabelEncoder()\n",
    "\n",
    "for col in cat_cols:\n",
    "    data[col] = label_encoder.fit_transform(data[col])\n",
    "    mappc[col] = dict(enumerate(label_encoder.classes_))\n",
    "    \n",
    "print(mappc)"
   ]
  },
  {
   "cell_type": "code",
   "execution_count": 644,
   "id": "a2ffc11e",
   "metadata": {},
   "outputs": [
    {
     "data": {
      "text/plain": [
       "<AxesSubplot:>"
      ]
     },
     "execution_count": 644,
     "metadata": {},
     "output_type": "execute_result"
    },
    {
     "data": {
      "image/png": "[encoded data removed]",
      "text/plain": [
       "<Figure size 432x288 with 1 Axes>"
      ]
     },
     "metadata": {
      "needs_background": "light"
     },
     "output_type": "display_data"
    }
   ],
   "source": [
    "#Проверим значимость категориальных признаков\n",
    "\n",
    "imp_cat = Series(mutual_info_classif(data[bin_cols + cat_cols], data['default'],\n",
    "                                     discrete_features =True), index = bin_cols + cat_cols)\n",
    "imp_cat.sort_values(inplace = True)\n",
    "imp_cat.plot(kind = 'barh')"
   ]
  },
  {
   "cell_type": "markdown",
   "id": "3ae144a3",
   "metadata": {},
   "source": [
    "Самые значимые параметры для модели - home_address, work_address и education\n",
    "\n"
   ]
  },
  {
   "cell_type": "markdown",
   "id": "2f65aa66",
   "metadata": {},
   "source": [
    "### Подготовка данных к машинному обучению"
   ]
  },
  {
   "cell_type": "code",
   "execution_count": 645,
   "id": "ac8df5f9",
   "metadata": {},
   "outputs": [
    {
     "data": {
      "text/plain": [
       "array([[0., 0., 0., ..., 1., 0., 0.],\n",
       "       [0., 0., 0., ..., 0., 1., 0.],\n",
       "       [0., 0., 0., ..., 1., 0., 0.],\n",
       "       ...,\n",
       "       [0., 0., 0., ..., 0., 1., 0.],\n",
       "       [0., 0., 0., ..., 1., 0., 0.],\n",
       "       [0., 1., 0., ..., 0., 1., 0.]])"
      ]
     },
     "execution_count": 645,
     "metadata": {},
     "output_type": "execute_result"
    }
   ],
   "source": [
    "X_cat = OneHotEncoder(sparse = False).fit_transform(df_train[cat_cols].values)\n",
    "X_cat"
   ]
  },
  {
   "cell_type": "code",
   "execution_count": 646,
   "id": "73a4905b",
   "metadata": {},
   "outputs": [
    {
     "data": {
      "text/plain": [
       "array([[0., 0., 0., ..., 1., 0., 0.],\n",
       "       [0., 0., 0., ..., 0., 1., 0.],\n",
       "       [0., 0., 0., ..., 1., 0., 0.],\n",
       "       ...,\n",
       "       [0., 0., 0., ..., 0., 1., 0.],\n",
       "       [0., 0., 0., ..., 1., 0., 0.],\n",
       "       [0., 1., 0., ..., 0., 1., 0.]])"
      ]
     },
     "execution_count": 646,
     "metadata": {},
     "output_type": "execute_result"
    }
   ],
   "source": [
    "Y_cat = OneHotEncoder(sparse = False).fit_transform(df_test[cat_cols].values)\n",
    "Y_cat"
   ]
  },
  {
   "cell_type": "code",
   "execution_count": 647,
   "id": "66f0aaa3",
   "metadata": {},
   "outputs": [
    {
     "data": {
      "text/plain": [
       "array([[ 1.97211528e+00, -3.42857656e-01, -4.44188844e-01,\n",
       "        -5.00363267e-01],\n",
       "       [ 1.71170539e+00, -3.42857656e-01,  4.43888001e-01,\n",
       "        -4.78702309e-01],\n",
       "       [-1.23960668e+00,  2.14387966e+00, -4.44188844e-01,\n",
       "        -2.40431770e-01],\n",
       "       ...,\n",
       "       [-7.18786904e-01, -3.42857656e-01,  8.87926424e-01,\n",
       "         8.44826013e-02],\n",
       "       [-8.92393496e-01, -3.42857656e-01,  4.43888001e-01,\n",
       "        -6.08668058e-01],\n",
       "       [-4.58377015e-01, -3.42857656e-01, -1.50421558e-04,\n",
       "        -3.48736561e-01]])"
      ]
     },
     "execution_count": 647,
     "metadata": {},
     "output_type": "execute_result"
    }
   ],
   "source": [
    "# Стандартизация числовых непрерывных переменных на обучающей базе\n",
    "\n",
    "X_num = StandardScaler().fit_transform(df_train[num_cols].values)\n",
    "X_num"
   ]
  },
  {
   "cell_type": "code",
   "execution_count": 648,
   "id": "d2dccf6a",
   "metadata": {},
   "outputs": [
    {
     "data": {
      "text/plain": [
       "array([[ 1.97211528e+00, -3.42857656e-01, -4.44188844e-01,\n",
       "        -5.00363267e-01],\n",
       "       [ 1.71170539e+00, -3.42857656e-01,  4.43888001e-01,\n",
       "        -4.78702309e-01],\n",
       "       [-1.23960668e+00,  2.14387966e+00, -4.44188844e-01,\n",
       "        -2.40431770e-01],\n",
       "       ...,\n",
       "       [-7.18786904e-01, -3.42857656e-01,  8.87926424e-01,\n",
       "         8.44826013e-02],\n",
       "       [-8.92393496e-01, -3.42857656e-01,  4.43888001e-01,\n",
       "        -6.08668058e-01],\n",
       "       [-4.58377015e-01, -3.42857656e-01, -1.50421558e-04,\n",
       "        -3.48736561e-01]])"
      ]
     },
     "execution_count": 648,
     "metadata": {},
     "output_type": "execute_result"
    }
   ],
   "source": [
    "# Стандартизация числовых непрерывных переменных на тестовой базе\n",
    "\n",
    "Y_num = StandardScaler().fit_transform(df_test[num_cols].values)\n",
    "Y_num"
   ]
  },
  {
   "cell_type": "code",
   "execution_count": 649,
   "id": "b4bc03f3",
   "metadata": {},
   "outputs": [],
   "source": [
    "# Объединяем\n",
    "\n",
    "X = np.hstack([X_num, df_train[bin_cols].values, X_cat])\n",
    "Y = df_train['default'].values\n",
    "\n",
    "id_test = df_test['client_id']\n",
    "test = np.hstack([Y_num, df_test[bin_cols].values, Y_cat])"
   ]
  },
  {
   "cell_type": "code",
   "execution_count": 650,
   "id": "6163acbb",
   "metadata": {},
   "outputs": [],
   "source": [
    "# Разделяем обучающую выборку на тренировочную и валидационную\n",
    "X_train, X_valid, y_train, y_valid = train_test_split(X, Y, test_size=0.2, random_state=42, shuffle = True)"
   ]
  },
  {
   "cell_type": "code",
   "execution_count": 651,
   "id": "5d367a5c",
   "metadata": {},
   "outputs": [],
   "source": [
    "train_data = data.query('sample == 1').drop(['sample'], axis=1) \n",
    "test_data = data.query('sample == 0').drop(['sample'], axis=1)"
   ]
  },
  {
   "cell_type": "code",
   "execution_count": 652,
   "id": "67a9acbb",
   "metadata": {},
   "outputs": [],
   "source": [
    "y = train_data.default.values\n",
    "X = train_data.drop(['default'], axis=1).values"
   ]
  },
  {
   "cell_type": "code",
   "execution_count": 653,
   "id": "b2ff6ebe",
   "metadata": {},
   "outputs": [],
   "source": [
    "def count_metrics(y_test, y_pred, y_probs):    \n",
    "    metrics = {}\n",
    "    metrics['accuracy'] = accuracy_score(y_test, y_pred)\n",
    "    metrics['f1'] = f1_score(y_test, y_pred)\n",
    "    metrics['roc_auc'] = roc_auc_score(y_test, y_probs)  \n",
    "    metrics['confusion'] = confusion_matrix(y_test, y_pred)\n",
    "    return metrics \n",
    "\n",
    "def show_roc_auc(y_test, y_probs):\n",
    "    fpr, tpr, threshold = roc_curve(y_test, y_probs)\n",
    "    roc_auc = roc_auc_score(y_test, y_probs)\n",
    "    plt.figure()\n",
    "    plt.plot([0, 1], label='Baseline', linestyle='--')\n",
    "    plt.plot(fpr, tpr, label = 'Regression')\n",
    "    plt.title('Logistic Regression ROC AUC = %0.3f' % roc_auc)\n",
    "    plt.ylabel('True Positive Rate')\n",
    "    plt.xlabel('False Positive Rate')\n",
    "    plt.legend(loc = 'lower right')\n",
    "    plt.show()"
   ]
  },
  {
   "cell_type": "code",
   "execution_count": 654,
   "id": "c14c2918",
   "metadata": {},
   "outputs": [],
   "source": [
    "#Разделим данные для обучения:\n",
    "X_train, X_test, y_train, y_test = train_test_split(X, y, test_size=0.20, random_state=42)"
   ]
  },
  {
   "cell_type": "code",
   "execution_count": 655,
   "id": "20077c7d",
   "metadata": {},
   "outputs": [],
   "source": [
    "# Логистическая регрессия \n",
    "model_naive = LogisticRegression(max_iter = 1000)"
   ]
  },
  {
   "cell_type": "code",
   "execution_count": 656,
   "id": "b5e84ce4",
   "metadata": {},
   "outputs": [
    {
     "data": {
      "image/png": "[encoded data removed]",
      "text/plain": [
       "<Figure size 432x288 with 1 Axes>"
      ]
     },
     "metadata": {
      "needs_background": "light"
     },
     "output_type": "display_data"
    },
    {
     "data": {
      "text/html": [
       "<div>\n",
       "<style scoped>\n",
       "    .dataframe tbody tr th:only-of-type {\n",
       "        vertical-align: middle;\n",
       "    }\n",
       "\n",
       "    .dataframe tbody tr th {\n",
       "        vertical-align: top;\n",
       "    }\n",
       "\n",
       "    .dataframe thead th {\n",
       "        text-align: right;\n",
       "    }\n",
       "</style>\n",
       "<table border=\"1\" class=\"dataframe\">\n",
       "  <thead>\n",
       "    <tr style=\"text-align: right;\">\n",
       "      <th></th>\n",
       "      <th>naive</th>\n",
       "    </tr>\n",
       "  </thead>\n",
       "  <tbody>\n",
       "    <tr>\n",
       "      <th>accuracy</th>\n",
       "      <td>0.869423</td>\n",
       "    </tr>\n",
       "    <tr>\n",
       "      <th>f1</th>\n",
       "      <td>0.0</td>\n",
       "    </tr>\n",
       "    <tr>\n",
       "      <th>roc_auc</th>\n",
       "      <td>0.573147</td>\n",
       "    </tr>\n",
       "    <tr>\n",
       "      <th>confusion</th>\n",
       "      <td>[[11672, 0], [1753, 0]]</td>\n",
       "    </tr>\n",
       "  </tbody>\n",
       "</table>\n",
       "</div>"
      ],
      "text/plain": [
       "                             naive\n",
       "accuracy                  0.869423\n",
       "f1                             0.0\n",
       "roc_auc                   0.573147\n",
       "confusion  [[11672, 0], [1753, 0]]"
      ]
     },
     "metadata": {},
     "output_type": "display_data"
    }
   ],
   "source": [
    "model_naive.fit(X_train, y_train)\n",
    "y_pred = model_naive.predict(X_test)\n",
    "y_probs = model_naive.predict_proba(X_test)[:,1]\n",
    "\n",
    "#посмотрим метрики\n",
    "metrics_naive = count_metrics(y_test, y_pred, y_probs)\n",
    "data_metrics = pd.DataFrame.from_dict(metrics_naive, orient='index',columns = ['naive'])\n",
    "\n",
    "show_roc_auc(y_test, y_probs)\n",
    "display(data_metrics)"
   ]
  },
  {
   "cell_type": "markdown",
   "id": "99234883",
   "metadata": {},
   "source": [
    "Значение ROC AUC довольно высоко, построим confusion matrixx\n",
    "\n"
   ]
  },
  {
   "cell_type": "code",
   "execution_count": 657,
   "id": "70b35c2d",
   "metadata": {},
   "outputs": [
    {
     "data": {
      "text/plain": [
       "[Text(0.5, 0, 'Predicted'), Text(0, 0.5, 'True')]"
      ]
     },
     "execution_count": 657,
     "metadata": {},
     "output_type": "execute_result"
    },
    {
     "data": {
      "image/png": "[encoded data removed]",
      "text/plain": [
       "<Figure size 432x288 with 2 Axes>"
      ]
     },
     "metadata": {
      "needs_background": "light"
     },
     "output_type": "display_data"
    }
   ],
   "source": [
    "cm = confusion_matrix(y_test, y_pred)\n",
    "cmd = ConfusionMatrixDisplay(cm, display_labels=['non_default','default'])\n",
    "cmd.plot()\n",
    "cmd.ax_.set(xlabel='Predicted', ylabel='True')"
   ]
  },
  {
   "cell_type": "code",
   "execution_count": 658,
   "id": "9124885f",
   "metadata": {
    "execution": {
     "iopub.execute_input": "2021-12-04T22:05:17.141675Z",
     "iopub.status.busy": "2021-12-04T22:05:17.140671Z",
     "iopub.status.idle": "2021-12-04T22:05:17.186275Z",
     "shell.execute_reply": "2021-12-04T22:05:17.185032Z",
     "shell.execute_reply.started": "2021-12-04T22:02:09.734382Z"
    },
    "papermill": {
     "duration": 0.071204,
     "end_time": "2021-12-04T22:05:17.186427",
     "exception": false,
     "start_time": "2021-12-04T22:05:17.115223",
     "status": "completed"
    },
    "tags": []
   },
   "outputs": [],
   "source": [
    "# Теперь выделим тестовую часть\n",
    "train_data = data.query('sample == 1').drop(['sample'], axis=1)\n",
    "test_data = data.query('sample == 0').drop(['sample', 'default'], axis=1)\n",
    "\n",
    "#Делим категориальные переменные на 0 и 1\n",
    "X_cat = OneHotEncoder(sparse = False).fit_transform(data[cat_cols].values)\n",
    "\n",
    "y = train_data['default'].values  # наш таргет\n",
    "X = train_data.drop(['default'], axis=1)"
   ]
  },
  {
   "cell_type": "code",
   "execution_count": 659,
   "id": "d6428701",
   "metadata": {},
   "outputs": [
    {
     "data": {
      "text/plain": [
       "(134248, 11)"
      ]
     },
     "execution_count": 659,
     "metadata": {},
     "output_type": "execute_result"
    }
   ],
   "source": [
    "X_cat.shape"
   ]
  },
  {
   "cell_type": "code",
   "execution_count": 660,
   "id": "d38fad5e",
   "metadata": {},
   "outputs": [],
   "source": [
    "# Стандартизация числовых переменных\n",
    "X_num = StandardScaler().fit_transform(data[num_cols].values)"
   ]
  },
  {
   "cell_type": "markdown",
   "id": "be9d0ec4",
   "metadata": {},
   "source": [
    "Объединим стандартизованные числовые, бинарные и закодированные категориальные переменные в одно признаковое пространство, разделив при этом признаки и целевую переменную.\n",
    "\n"
   ]
  },
  {
   "cell_type": "code",
   "execution_count": 661,
   "id": "b0d610a9",
   "metadata": {},
   "outputs": [],
   "source": [
    "#Объединяем\n",
    "\n",
    "X = np.hstack([X_num, data[bin_cols].values, X_cat])\n",
    "Y = data['default'].values"
   ]
  },
  {
   "cell_type": "code",
   "execution_count": 662,
   "id": "77110fd4",
   "metadata": {},
   "outputs": [],
   "source": [
    "#Подготовка для модели завершена. Разделим данные для обучения:\n",
    "\n",
    "X_train, X_test, y_train, y_test = train_test_split(X, Y, test_size=0.2, random_state=42 )"
   ]
  },
  {
   "cell_type": "markdown",
   "id": "7698a058",
   "metadata": {},
   "source": [
    "Создадим и обучим первую модель на стандартных настройках логистической регрессии\n",
    "\n"
   ]
  },
  {
   "cell_type": "code",
   "execution_count": 663,
   "id": "d49e3b25",
   "metadata": {},
   "outputs": [],
   "source": [
    "model_1 = LogisticRegression(max_iter=1000, random_state=42)\n",
    "model_1.fit(X_train, y_train)\n",
    "preds = model_1.predict(X_test)"
   ]
  },
  {
   "cell_type": "code",
   "execution_count": 664,
   "id": "f5dc50a6",
   "metadata": {},
   "outputs": [
    {
     "data": {
      "image/png": "[encoded data removed]",
      "text/plain": [
       "<Figure size 432x288 with 1 Axes>"
      ]
     },
     "metadata": {
      "needs_background": "light"
     },
     "output_type": "display_data"
    },
    {
     "data": {
      "image/png": "[encoded data removed]",
      "text/plain": [
       "<Figure size 432x288 with 2 Axes>"
      ]
     },
     "metadata": {
      "needs_background": "light"
     },
     "output_type": "display_data"
    }
   ],
   "source": [
    "probs = model_1.predict_proba(X_test)\n",
    "probs = probs[:,1]\n",
    "\n",
    "fpr, tpr, threshold = roc_curve(y_test, probs)\n",
    "roc_auc = roc_auc_score(y_test, probs)\n",
    "\n",
    "plt.figure()\n",
    "plt.plot([0, 1], label='Baseline', linestyle='--')\n",
    "plt.plot(fpr, tpr, label = 'Regression')\n",
    "plt.title('Logistic Regression ROC AUC = %0.3f' % roc_auc)\n",
    "plt.ylabel('True Positive Rate')\n",
    "plt.xlabel('False Positive Rate')\n",
    "plt.legend(loc = \"lower right\")\n",
    "plt.show()\n",
    "\n",
    "plot_confusion_matrix(model_1, X_test, y_test)\n",
    "plt.show()"
   ]
  },
  {
   "cell_type": "code",
   "execution_count": 665,
   "id": "d95dfe01",
   "metadata": {},
   "outputs": [
    {
     "name": "stdout",
     "output_type": "stream",
     "text": [
      "Accuracy: 0.936\n",
      "Precision: 0.333\n",
      "Recall: 0.001\n",
      "F1: 0.001\n",
      "MSE: 0.064\n"
     ]
    }
   ],
   "source": [
    "print('Accuracy: %.3f' % accuracy_score(y_test, preds))\n",
    "print('Precision: %.3f' % precision_score(y_test, preds))\n",
    "print('Recall: %.3f' % recall_score(y_test, preds))\n",
    "print('F1: %.3f' % f1_score(y_test, preds))\n",
    "print('MSE: {}' .format(np.round(mean_squared_error(y_test, preds), 3)))"
   ]
  },
  {
   "cell_type": "code",
   "execution_count": 666,
   "id": "6fb6d608",
   "metadata": {},
   "outputs": [
    {
     "name": "stdout",
     "output_type": "stream",
     "text": [
      "Best penalty: l2\n",
      "Best C: 1.0\n"
     ]
    }
   ],
   "source": [
    "# Добавляем гиперпараметры # Попробуем улучшить модель путем подбора параметров - penalty and C, используя GridSearchCV\n",
    "\n",
    "\n",
    "penalty = ['l1', 'l2']\n",
    "C = np.logspace(0, 4, 10)\n",
    "\n",
    "\n",
    "hyperparameters = dict(C=C, penalty=penalty)\n",
    "\n",
    "model = LogisticRegression()\n",
    "model.fit(X_train, y_train)\n",
    "\n",
    "clf = GridSearchCV(model, hyperparameters, cv=5, verbose=0)\n",
    "\n",
    "best_model = clf.fit(X_train, y_train)\n",
    "\n",
    "print('Best penalty:', best_model.best_estimator_.get_params()['penalty'])\n",
    "print('Best C:', best_model.best_estimator_.get_params()['C'])"
   ]
  },
  {
   "cell_type": "markdown",
   "id": "aee70a04",
   "metadata": {},
   "source": [
    "Обрабатываем тестовую выборку, загружаем в модель и готовим submission\n",
    "\n"
   ]
  },
  {
   "cell_type": "code",
   "execution_count": 667,
   "id": "96d35dbc",
   "metadata": {},
   "outputs": [
    {
     "data": {
      "text/plain": [
       "LogisticRegression(max_iter=500)"
      ]
     },
     "execution_count": 667,
     "metadata": {},
     "output_type": "execute_result"
    }
   ],
   "source": [
    "lgr = LogisticRegression(penalty = 'l2', C=1.0, max_iter=500)\n",
    "lgr.fit(X_train, y_train)"
   ]
  },
  {
   "cell_type": "code",
   "execution_count": 668,
   "id": "44e3a209",
   "metadata": {},
   "outputs": [
    {
     "data": {
      "image/png": "[encoded data removed]",
      "text/plain": [
       "<Figure size 432x288 with 1 Axes>"
      ]
     },
     "metadata": {
      "needs_background": "light"
     },
     "output_type": "display_data"
    }
   ],
   "source": [
    "# Воспользуемся анализом ROC-кривой для оценки модели \n",
    "\n",
    "lgr = LogisticRegression(penalty = 'l2', C=59.94842503189409, max_iter=500)\n",
    "lgr.fit(X_train, y_train)\n",
    "\n",
    "probs = lgr.predict_proba(X_test)\n",
    "probs = probs[:,1]\n",
    "\n",
    "\n",
    "fpr, tpr, threshold = roc_curve(y_test, probs)\n",
    "roc_auc = roc_auc_score(y_test, probs)\n",
    "\n",
    "plt.figure()\n",
    "plt.plot([0, 1], label='Baseline', linestyle='--')\n",
    "plt.plot(fpr, tpr, label = 'Regression')\n",
    "plt.title('Logistic Regression ROC AUC = %0.3f' % roc_auc)\n",
    "plt.ylabel('True Positive Rate')\n",
    "plt.xlabel('False Positive Rate')\n",
    "plt.legend(loc = 'lower right')\n",
    "plt.show()"
   ]
  },
  {
   "cell_type": "code",
   "execution_count": 669,
   "id": "6e9437d5",
   "metadata": {},
   "outputs": [
    {
     "name": "stdout",
     "output_type": "stream",
     "text": [
      "accuracy score: 0.9356797020484171\n",
      "precision score: 0.3333333333333333\n",
      "recall score: 0.0005793742757821553\n",
      "f1 score: 0.0011567379988432621\n"
     ]
    }
   ],
   "source": [
    "# Проверим другие метрики:\n",
    "\n",
    "y_pred = lgr.predict(X_test)\n",
    "print('accuracy score:', accuracy_score(y_test,y_pred))\n",
    "print('precision score:', precision_score(y_test,y_pred))\n",
    "print('recall score:',recall_score(y_test,y_pred))\n",
    "print('f1 score:', f1_score(y_test,y_pred))"
   ]
  },
  {
   "cell_type": "code",
   "execution_count": 670,
   "id": "ee4355fc",
   "metadata": {},
   "outputs": [
    {
     "data": {
      "text/plain": [
       "[Text(0.5, 0, 'Predicted'), Text(0, 0.5, 'True')]"
      ]
     },
     "execution_count": 670,
     "metadata": {},
     "output_type": "execute_result"
    },
    {
     "data": {
      "image/png": "[encoded data removed]",
      "text/plain": [
       "<Figure size 432x288 with 2 Axes>"
      ]
     },
     "metadata": {
      "needs_background": "light"
     },
     "output_type": "display_data"
    }
   ],
   "source": [
    "# И еще раз обратимся к матрице ошибок:\n",
    "\n",
    "cm = confusion_matrix(y_test, y_pred)\n",
    "cmd = ConfusionMatrixDisplay(cm, display_labels=['non_default', 'default'])\n",
    "cmd.plot()\n",
    "cmd.ax_.set(xlabel='Predicted', ylabel='True')"
   ]
  },
  {
   "cell_type": "code",
   "execution_count": 671,
   "id": "a465a8af",
   "metadata": {},
   "outputs": [],
   "source": [
    "train_data = data.query('sample == 1').drop(['sample', 'client_id'], axis=1)\n",
    "test_data = data.query('sample == 0').drop(['sample', 'client_id'], axis=1)\n",
    "\n",
    "X_train = train_data.drop(['default'], axis=1)\n",
    "y_train = train_data.default.values\n",
    "X_test = test_data.drop(['default'], axis=1)\n",
    "y_test = test_data.default.values"
   ]
  },
  {
   "cell_type": "code",
   "execution_count": 672,
   "id": "371e55d8",
   "metadata": {},
   "outputs": [
    {
     "name": "stdout",
     "output_type": "stream",
     "text": [
      "\tC: 1.0\n",
      "\tclass_weight: 'balanced'\n",
      "\tdual: False\n",
      "\tfit_intercept: True\n",
      "\tintercept_scaling: 1\n",
      "\tl1_ratio: None\n",
      "\tmax_iter: 50\n",
      "\tmulti_class: 'ovr'\n",
      "\tn_jobs: None\n",
      "\tpenalty: 'l1'\n",
      "\trandom_state: None\n",
      "\tsolver: 'liblinear'\n",
      "\ttol: 0.001\n",
      "\tverbose: 0\n",
      "\twarm_start: False\n"
     ]
    }
   ],
   "source": [
    "model = LogisticRegression()\n",
    "\n",
    "iter_ = 50\n",
    "epsilon_stop = 1e-3\n",
    "\n",
    "param_grid = [\n",
    "    {'penalty': ['l1'], \n",
    "     'solver': ['liblinear', 'lbfgs'], \n",
    "     'class_weight':['none', 'balanced'], \n",
    "     'multi_class': ['auto','ovr'], \n",
    "     'max_iter':[iter_],\n",
    "     'tol':[epsilon_stop]},\n",
    "    {'penalty': ['l2'], \n",
    "     'solver': ['newton-cg', 'lbfgs', 'liblinear', 'sag', 'saga'], \n",
    "     'class_weight':['none', 'balanced'], \n",
    "     'multi_class': ['auto','ovr'], \n",
    "     'max_iter':[iter_],\n",
    "     'tol':[epsilon_stop]},\n",
    "    {'penalty': ['none'], \n",
    "     'solver': ['newton-cg', 'lbfgs', 'sag', 'saga'], \n",
    "     'class_weight':['none', 'balanced'], \n",
    "     'multi_class': ['auto','ovr'], \n",
    "     'max_iter':[iter_],\n",
    "     'tol':[epsilon_stop]},\n",
    "]\n",
    "\n",
    "## model ваша модель логистической регрессии\n",
    "gridsearch = GridSearchCV(model, param_grid, scoring='f1', n_jobs=-1, cv=5)\n",
    "gridsearch.fit(X_train, y_train)\n",
    "model = gridsearch.best_estimator_\n",
    "\n",
    "##печатаем параметры\n",
    "best_parameters = model.get_params()\n",
    "for param_name in sorted(best_parameters.keys()):\n",
    "        print('\\t%s: %r' % (param_name, best_parameters[param_name]))"
   ]
  },
  {
   "cell_type": "code",
   "execution_count": null,
   "id": "5a532237",
   "metadata": {},
   "outputs": [],
   "source": []
  },
  {
   "cell_type": "code",
   "execution_count": null,
   "id": "209d00e4",
   "metadata": {},
   "outputs": [],
   "source": []
  }
 ],
 "metadata": {
  "kernelspec": {
   "display_name": "Python 3 (ipykernel)",
   "language": "python",
   "name": "python3"
  },
  "language_info": {
   "codemirror_mode": {
    "name": "ipython",
    "version": 3
   },
   "file_extension": ".py",
   "mimetype": "text/x-python",
   "name": "python",
   "nbconvert_exporter": "python",
   "pygments_lexer": "ipython3",
   "version": "3.8.12"
  },
  "papermill": {
   "default_parameters": {},
   "duration": 14.625956,
   "end_time": "2021-12-04T22:05:20.815483",
   "environment_variables": {},
   "exception": null,
   "input_path": "__notebook__.ipynb",
   "output_path": "__notebook__.ipynb",
   "parameters": {},
   "start_time": "2021-12-04T22:05:06.189527",
   "version": "2.3.3"
  }
 },
 "nbformat": 4,
 "nbformat_minor": 5
}
